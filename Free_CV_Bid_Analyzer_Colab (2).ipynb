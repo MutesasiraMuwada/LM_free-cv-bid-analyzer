{
 "cells": [
  {
   "cell_type": "markdown",
   "id": "e5f0216d",
   "metadata": {},
   "source": [
    "# 📄 Free Local CV & Bid Match Analyzer (No API, 100% Private)\n",
    "Analyze how well your CV matches a bid or job advert using local models.\n",
    "\n",
    "✅ No API keys required\n",
    "✅ Supports PDF & DOCX\n",
    "✅ Outputs match score, missing keywords, and suggestions\n",
    "\n",
    "### 🔧 How to Use:\n",
    "1. Click `Runtime > Run all`\n",
    "2. Upload your CV\n",
    "3. Upload the bid/job advert\n",
    "4. View analysis and download report"
   ]
  },
  {
   "cell_type": "code",
   "execution_count": null,
   "id": "e9261911",
   "metadata": {},
   "outputs": [],
   "source": [
    "# Install required libraries\n",
    "!pip install -q sentence-transformers transformers docx2txt pdfplumber fpdf"
   ]
  },
  {
   "cell_type": "code",
   "execution_count": null,
   "id": "7d0695a6",
   "metadata": {},
   "outputs": [],
   "source": [
    "# Imports\n",
    "import pdfplumber, docx2txt\n",
    "from sentence_transformers import SentenceTransformer, util\n",
    "from transformers import pipeline\n",
    "import torch\n",
    "import os\n",
    "from fpdf import FPDF\n",
    "from google.colab import files\n"
   ]
  },
  {
   "cell_type": "code",
   "execution_count": null,
   "id": "741eb69d",
   "metadata": {},
   "outputs": [],
   "source": [
    "# Upload CV and Bid Advert\n",
    "from google.colab import files\n",
    "uploaded = files.upload()\n",
    "cv_path = list(uploaded.keys())[0]\n",
    "\n",
    "uploaded = files.upload()\n",
    "bid_path = list(uploaded.keys())[0]"
   ]
  },
  {
   "cell_type": "code",
   "execution_count": null,
   "id": "a9f20d01",
   "metadata": {},
   "outputs": [],
   "source": [
    "# Extract text\n",
    "def extract_text(path):\n",
    "    if path.endswith('.pdf'):\n",
    "        with pdfplumber.open(path) as pdf:\n",
    "            return ' '.join(page.extract_text() or '' for page in pdf.pages)\n",
    "    elif path.endswith('.docx'):\n",
    "        return docx2txt.process(path)\n",
    "    return ''\n",
    "\n",
    "cv_text = extract_text(cv_path)\n",
    "bid_text = extract_text(bid_path)"
   ]
  },
  {
   "cell_type": "code",
   "execution_count": null,
   "id": "e8b27f6b",
   "metadata": {},
   "outputs": [],
   "source": [
    "# Semantic similarity\n",
    "model = SentenceTransformer('all-MiniLM-L6-v2')\n",
    "cv_emb = model.encode(cv_text, convert_to_tensor=True)\n",
    "bid_emb = model.encode(bid_text, convert_to_tensor=True)\n",
    "score = util.cos_sim(cv_emb, bid_emb).item() * 100\n",
    "print(f\"Match Score: {score:.2f}%\")"
   ]
  },
  {
   "cell_type": "code",
   "execution_count": null,
   "id": "6840090d",
   "metadata": {},
   "outputs": [],
   "source": [
    "# Keyword extraction\n",
    "extractor = pipeline('text2text-generation', model='t5-small')\n",
    "bid_keywords = extractor(f\"extract keywords: {bid_text[:512]}\")[0]['generated_text']\n",
    "cv_keywords = extractor(f\"extract keywords: {cv_text[:512]}\")[0]['generated_text']\n",
    "\n",
    "print(\"\\nBid Keywords:\", bid_keywords)\n",
    "print(\"\\nYour CV Keywords:\", cv_keywords)"
   ]
  },
  {
   "cell_type": "code",
   "execution_count": null,
   "id": "37e126cc",
   "metadata": {},
   "outputs": [],
   "source": [
    "# Simple keyword gap analysis\n",
    "bid_keys = set(bid_keywords.lower().split(', '))\n",
    "cv_keys = set(cv_keywords.lower().split(', '))\n",
    "missing = bid_keys - cv_keys\n",
    "\n",
    "print(\"\\nMissing Keywords:\", missing)"
   ]
  },
  {
   "cell_type": "code",
   "execution_count": null,
   "id": "36a5dec1",
   "metadata": {},
   "outputs": [],
   "source": [
    "# Generate PDF report\n",
    "pdf = FPDF()\n",
    "pdf.add_page()\n",
    "pdf.set_font('Arial', 'B', 12)\n",
    "pdf.cell(0, 10, 'CV & Bid Match Report', ln=True)\n",
    "pdf.set_font('Arial', '', 11)\n",
    "pdf.multi_cell(0, 10, f\"Match Score: {score:.2f}%\\n\\nMissing Keywords: {', '.join(missing)}\")\n",
    "pdf_path = \"cv_bid_report.pdf\"\n",
    "pdf.output(pdf_path)\n",
    "files.download(pdf_path)"
   ]
  }
 ],
 "metadata": {},
 "nbformat": 4,
 "nbformat_minor": 5
}
